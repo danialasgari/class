{
 "cells": [
  {
   "cell_type": "markdown",
   "metadata": {},
   "source": [
    "## Qestion 1"
   ]
  },
  {
   "cell_type": "markdown",
   "metadata": {},
   "source": [
    "Waiting time is exponentially distributed with the corresponding $\\lambda$.\n",
    "For exponential distribution we have:\n",
    "\n",
    "$E(x) = 1/ \\lambda$\n",
    "\n",
    "Therefore, the expected time to extinction is:\n",
    "\n",
    "$$ \\sum_{k}1/\\lambda_k $$\n",
    "\n",
    "Thus, if $ \\sum_{k}1/\\lambda_k $ is finite, population explodes in finite time.\n",
    "\n",
    "However, if $ \\sum_{k}P_k =1 $ then $1- \\sum_{k}P_k =1 $ or the probability of having infinite birth at time t is zero. \n",
    "\n"
   ]
  },
  {
   "cell_type": "markdown",
   "metadata": {},
   "source": [
    "For an explosive process whcih cannot be normalized for all finite times, the term $ \\sum_{k}1/\\lambda_k $ has to converge to a finite number:\n",
    "\n"
   ]
  },
  {
   "cell_type": "code",
   "execution_count": 65,
   "metadata": {},
   "outputs": [
    {
     "data": {
      "text/plain": [
       "1.6439335666815615"
      ]
     },
     "execution_count": 65,
     "metadata": {},
     "output_type": "execute_result"
    }
   ],
   "source": [
    "import numpy as np\n",
    "k = np.arange(1,1000,1)\n",
    "sum(1/k**2)"
   ]
  },
  {
   "cell_type": "code",
   "execution_count": 1,
   "metadata": {},
   "outputs": [
    {
     "data": {
      "image/png": "[encoded data removed]",
      "text/plain": [
       "<Figure size 432x288 with 1 Axes>"
      ]
     },
     "metadata": {
      "needs_background": "light"
     },
     "output_type": "display_data"
    }
   ],
   "source": [
    "import numpy as np\n",
    "import matplotlib.pyplot as plt \n",
    "import math\n",
    "import random\n",
    "\n",
    "no_steps = 1000\n",
    "x = np.zeros(no_steps)\n",
    "t = np.zeros(no_steps)\n",
    "\n",
    "x[0] =1\n",
    "\n",
    "    \n",
    "for k in range(no_steps-1):\n",
    "\n",
    "    rates  = x[k]**2\n",
    "    \n",
    "     \n",
    "    dt = -math.log(1 - random.uniform(0.0, 1.0)) / rates \n",
    "\n",
    "     \n",
    "    t[k+1]= t[k]+dt\n",
    "    \n",
    "    x[k+1] = x[k] +1\n",
    "\n",
    "\n",
    "plt.step(t,x)\n",
    "plt.xlabel('time')\n",
    "plt.ylabel('population size')\n",
    "plt.show()\n",
    "\n"
   ]
  },
  {
   "cell_type": "markdown",
   "metadata": {},
   "source": [
    "## Qestion 2"
   ]
  },
  {
   "cell_type": "markdown",
   "metadata": {},
   "source": [
    "Master equation: $-(\\lambda+\\mu + \\nu)P_n + (\\lambda (n-1)+\\nu)P_{n-1}+ (n+1)\\mu P_{n+1}$\n",
    "\n",
    "$ M'_t = \\sum_1{n P'_n} $ Therefore:\n",
    "\n",
    "$ M'_t = -(\\lambda+\\mu)\\sum_1{n^2 P_n}+(\\lambda)\\sum_1{n (n-1) P_{n-1}}+(\\mu)\\sum_1{n (n+1) P_{n+1}}- \\nu \\sum_1{n P_n}+\\nu \\sum_1{n P_{n-1}} $\n",
    "\n",
    "From birth-death without immigration:\n",
    "\n",
    "$ M'_t = -(\\lambda+\\mu) M_t - \\nu \\sum_1{n P_n}+\\nu \\sum_1{n P_{n-1}}$\n",
    "\n",
    "$ M'_t = -(\\lambda+\\mu) M_t -\\nu \\sum_1{n (P_n - P_{n-1})}$\n",
    "\n",
    "$ M'_t = -(\\lambda+\\mu) M_t + \\nu$\n"
   ]
  },
  {
   "cell_type": "code",
   "execution_count": 45,
   "metadata": {},
   "outputs": [
    {
     "name": "stdout",
     "output_type": "stream",
     "text": [
      "averege for stochastic process: 767.2747274727473\n",
      "averege for differential equation: 6566.792845042259\n"
     ]
    }
   ],
   "source": [
    "import numpy as np\n",
    "import matplotlib.pyplot as plt \n",
    "import math\n",
    "import random\n",
    "\n",
    "\n",
    "events = np.array([1,-1])\n",
    "no_events = np.array([0,1])\n",
    "\n",
    "\n",
    "\n",
    "\n",
    "\n",
    "def Sim_func(size,maxtime, l, m,v,initial):\n",
    "    ns = 0\n",
    "    time = 0\n",
    "    x = np.zeros(size)\n",
    "    t = np.zeros(size)\n",
    "    x[0] = initial \n",
    "    while time <= maxtime:\n",
    "\n",
    "        rates  = np.array([(l*x[ns])+v, m*x[ns]])\n",
    "    \n",
    "        total_rate  =  sum(rates)\n",
    "\n",
    "        dt = -math.log(1 - random.uniform(0.0, 1.0)) / total_rate \n",
    "\n",
    "        choose = np.random.choice(no_events, size=1, p=rates/total_rate)\n",
    "        time = time +dt\n",
    "        t[ns+1]= t[ns]+dt\n",
    "        x[ns+1] = x[ns] + events[choose][0]\n",
    "        ns = ns + 1\n",
    "        if ns == size-1:\n",
    "            break\n",
    "    return t[0:ns], x[0:ns]\n",
    "\n",
    "\n",
    "t,x = Sim_func(10000, maxtime = 100, l = 4, m= 3, v = 2 ,initial=1)   \n",
    "\n",
    "\n",
    "T = len(t)\n",
    "N = np.zeros(T)\n",
    "N[0] = 1\n",
    "h = 0.001\n",
    "l = 4\n",
    "m = 3\n",
    "v = 2\n",
    "times = np.zeros(T)\n",
    "for j in range(T-1):\n",
    "    N[j+1] = N[j] +  h*((l-m)*N[j] + v)\n",
    "    times[j+1] = times[j] + 1\n",
    "    \n",
    "\n",
    "\n",
    "print('averege for stochastic process:',np.mean(x))\n",
    "print('averege for differential equation:',np.mean(N))"
   ]
  },
  {
   "cell_type": "markdown",
   "metadata": {},
   "source": [
    "## Qestion 3"
   ]
  },
  {
   "attachments": {
    "image.png": {
     "image/png": "[encoded data removed]"
    }
   },
   "cell_type": "markdown",
   "metadata": {},
   "source": [
    "![image.png](attachment:image.png)"
   ]
  },
  {
   "cell_type": "markdown",
   "metadata": {},
   "source": [
    "As is shown above, all states communicate with one another (albeit not directly), thus the chain is irreducible."
   ]
  },
  {
   "cell_type": "markdown",
   "metadata": {},
   "source": [
    "It's periodic because $P^1$ has $P_{ii} = 0$. The period is 2. For $P^n, n = 2,4,6,8,10,..$ we have:"
   ]
  },
  {
   "cell_type": "code",
   "execution_count": 73,
   "metadata": {},
   "outputs": [
    {
     "data": {
      "text/plain": [
       "array([[0.375 , 0.    , 0.625 , 0.    ],\n",
       "       [0.    , 0.6875, 0.    , 0.3125],\n",
       "       [0.3125, 0.    , 0.6875, 0.    ],\n",
       "       [0.    , 0.625 , 0.    , 0.375 ]])"
      ]
     },
     "execution_count": 73,
     "metadata": {},
     "output_type": "execute_result"
    }
   ],
   "source": [
    "import numpy as np\n",
    "from numpy.linalg import matrix_power\n",
    "P = np.array([[0,1/2,0,1/2],[1/4,0,3/4,0], [0,3/4,0,1/4], [1/2,0,1/2,0]])\n",
    "matrix_power(P,2) \n"
   ]
  },
  {
   "cell_type": "code",
   "execution_count": 69,
   "metadata": {},
   "outputs": [
    {
     "name": "stdout",
     "output_type": "stream",
     "text": [
      "[[-0.31622777  0.31622777 -0.5         0.5       ]\n",
      " [ 0.63245553  0.63245553 -0.5        -0.5       ]\n",
      " [-0.63245553  0.63245553  0.5        -0.5       ]\n",
      " [ 0.31622777  0.31622777  0.5         0.5       ]]\n"
     ]
    }
   ],
   "source": [
    "from scipy import linalg\n",
    "eigenval, eigenvec = linalg.eig(P,right=False , left = True)\n",
    "print(eigenvec)\n"
   ]
  },
  {
   "cell_type": "markdown",
   "metadata": {},
   "source": [
    "The second eigenvector corresponding to $\\lambda = 1$ is the stationary distribution"
   ]
  },
  {
   "cell_type": "markdown",
   "metadata": {},
   "source": [
    "Because there exist a unique stationary distribution then all states must be positive recurrent"
   ]
  },
  {
   "cell_type": "markdown",
   "metadata": {},
   "source": [
    "## Qestion 4"
   ]
  },
  {
   "cell_type": "markdown",
   "metadata": {},
   "source": [
    "To calculate the proportion of time the gene is unbound it suffice to calculate the stationary distribution for:\n",
    "$P = \\begin{pmatrix} 1-\\lambda & \\lambda \\\\ 1/\\mu & 1-1/\\mu \\end{pmatrix}$\n",
    "\n",
    "$P^T = \\begin{pmatrix} 1-\\lambda & 1/\\mu \\\\ \\lambda & 1-1/\\mu \\end{pmatrix} $\n",
    "\n",
    "$Eigenvalues = \\begin{pmatrix} 1 ,&  (-1+\\mu-\\mu \\lambda)/\\mu \\end{pmatrix}$\n",
    "\n",
    "$Eigenvector for \\lambda =1 : \\begin{pmatrix} 1/\\mu\\lambda ,&1 \\end{pmatrix}$\n",
    "\n",
    "$Normalization: \\begin{pmatrix} 1/(1+ \\lambda \\mu) ,&  \\mu\\lambda/ (1+ \\mu\\lambda) \\end{pmatrix}$\n",
    "\n",
    "$Porportion\\;  of\\; time\\; spent\\; unbound = 1/(1+ \\lambda \\mu)$"
   ]
  },
  {
   "cell_type": "markdown",
   "metadata": {},
   "source": [
    "## Qestion 5"
   ]
  },
  {
   "cell_type": "markdown",
   "metadata": {},
   "source": [
    "The probability of no event happening reduces exponentially as the time or rate increases:\n",
    "\n",
    "$P = e^ {-\\lambda*t}$\n",
    "\n",
    "The probability of an event occuring is:\n",
    "\n",
    "$F = 1- e^ {-\\lambda*t}$\n",
    "\n",
    "The prbability density function would be:\n",
    "\n",
    "$\\frac{d}{dt}(1- e^ {-\\lambda*t}) = \\lambda e^{-\\lambda*t}$\n",
    "\n",
    "The expected value:\n",
    "\n",
    "$\\int_0^\\infty t \\lambda e^{-\\lambda*t} dt = \\frac{1}{\\lambda}$"
   ]
  }
 ],
 "metadata": {
  "kernelspec": {
   "display_name": "Python 3",
   "language": "python",
   "name": "python3"
  },
  "language_info": {
   "codemirror_mode": {
    "name": "ipython",
    "version": 3
   },
   "file_extension": ".py",
   "mimetype": "text/x-python",
   "name": "python",
   "nbconvert_exporter": "python",
   "pygments_lexer": "ipython3",
   "version": "3.8.3"
  }
 },
 "nbformat": 4,
 "nbformat_minor": 4
}
