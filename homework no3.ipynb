{
 "cells": [
  {
   "cell_type": "markdown",
   "metadata": {},
   "source": [
    "## Question1"
   ]
  },
  {
   "cell_type": "markdown",
   "metadata": {},
   "source": [
    "### Derivation of Fokker-Plank Equation\n",
    "\n",
    "<br>\n",
    "\n",
    "$$P^{trans} (u+ \\delta t| u',t)= [1- \\Delta t \\sum{V_k}] \\delta (u - u'e^{-\\Delta t/\\tau_m}) + \\Delta t\\sum{V_k} \\delta(u- u'e^{-\\Delta t/\\tau_m}-w_k )  $$\n",
    "\n",
    "$$P(u,t+\\Delta t) = \\int {P^{trans} (u+ \\Delta t| u',t) P(u',t) du'}$$\n",
    "\n",
    "$$=\\int {[1- \\Delta t \\sum{V_k}] \\delta (u - u'e^{-\\Delta t/\\tau_m})P(u',t) du'} + \\int {\\Delta t\\sum{V_k} \\delta(u- u'e^{-\\Delta t/\\tau_m}-w_k )P(u',t) du'  }$$\n",
    "\n",
    "$$=[1- \\Delta t \\sum{V_k}]\\int {e^{\\Delta t/\\tau_m}\\delta (ue^{\\Delta t/\\tau_m} - u')P(u',t)du'} +\\Delta t\\sum{V_k}\\int {e^{\\Delta t/\\tau_m}\\delta(ue^{\\Delta t/\\tau_m}- u'-w_ke^{\\Delta t/\\tau_m} )P(u',t) du'}  $$\n",
    "\n",
    "$$=[1- \\Delta t \\sum{V_k}]e^{\\Delta t/\\tau_m} \\int {P(ue^{\\Delta t/\\tau_m},t)}+ \\Delta t\\sum{V_k}e^{\\Delta t/\\tau_m} \\int{P(ue^{\\Delta t/\\tau_m}-w_ke^{\\Delta t/\\tau_m},t)}$$\n",
    "\n",
    "$$=[1- \\Delta t \\sum{V_k}]e^{\\Delta t/\\tau_m} P(ue^{\\Delta t/\\tau_m},t)+ \\Delta t\\sum{V_k}e^{\\Delta t/\\tau_m} P(ue^{\\Delta t/\\tau_m}-w_ke^{\\Delta t/\\tau_m},t)$$\n",
    "\n",
    "Expansion around $\\Delta t =0$\n",
    "\n",
    "$$P(u,t+\\Delta t)  =P(u,t)+\\frac{\\Delta t}{\\tau_m}u \\frac{\\delta P(u,t)}{\\delta u}-\\sum{V_k} \\Delta t P(u,t) + \\frac{\\Delta t}{\\tau_m}P(u,t)+ \\sum{V_k} \\Delta t P(u-w_k) + \\frac{\\sum{V_k}\\Delta t^{2}((u-w_k)\\frac{\\delta P(u-w_k,t)}{\\delta u}+P(u-w_k))}{\\tau_m}$$\n",
    "\n",
    "\n",
    "$\\Delta t^{2}=0$\n",
    "\n",
    "$$P(u,t+\\Delta t) =P(u,t)+\\frac{\\Delta t}{\\tau_m}u \\frac{\\delta P(u,t)}{\\delta u}-\\sum{V_k} \\Delta t P(u,t) + \\frac{\\Delta t}{\\tau_m}P(u,t)+ \\sum{V_k} \\Delta t P(u-w_k)$$\n",
    "\n",
    "$$P(u,t+\\Delta t)-P(u,t) =\\frac{\\Delta t}{\\tau_m}u \\frac{\\delta P(u,t)}{\\delta u}-\\sum{V_k} \\Delta t P(u,t) + \\frac{\\Delta t}{\\tau_m}P(u,t)+ \\sum{V_k} \\Delta t P(u-w_k)$$\n",
    "\n",
    "$$\\frac{P(u,t+\\Delta t)-P(u,t)}{\\Delta t} =\\frac{1}{\\tau_m}u \\frac{\\delta P(u,t)}{\\delta u}-\\sum{V_k}P(u,t) + \\frac{1}{\\tau_m}P(u,t)+ \\sum{V_k} P(u-w_k,t)$$\n",
    "\n",
    "$$\\frac{P(u,t+\\Delta t)-P(u,t)}{\\Delta t} =\\frac{1}{\\tau_m}P(u,t)+\\frac{1}{\\tau_m}u \\frac{\\delta P(u,t)}{\\delta u} + \\sum{V_k} (P(u-w_k,t)-P(u,t))$$\n",
    "\n",
    "Epansion at $w_k$\n",
    "\n",
    "$$\\frac{P(u,t+\\Delta t)-P(u,t)}{\\Delta t} =\\frac{1}{\\tau_m}P(u,t)+\\frac{1}{\\tau_m}u \\frac{\\delta P(u,t)}{\\delta u} -\\sum{V_k} w_k\\frac{\\delta P(u,t)}{\\delta u} + \\frac{1}{2}\\sum{V_k}w_k^2\\frac{\\delta^2 P(u,t)}{\\delta u^2} $$\n",
    "\n",
    "$$=\\frac{\\delta P(u,t)}{\\delta u} (\\frac{u}{\\tau_m}-\\sum{V_k}w_k) + \\frac{1}{2}\\sum{V_k}w_k^2\\frac{\\delta^2 P(u,t)}{\\delta u^2} + \\frac{1}{\\tau_m} P(u,t)$$\n",
    "\n",
    "$$\\tau_m\\frac{\\delta P(u,t)}{\\delta t} =  \\frac{\\delta P(u,t)}{\\delta u} (u-\\sum{V_k}w_k\\tau_m)+  \\frac{1}{2}\\sum{V_k}w_k^2\\tau_m\\frac{\\delta^2 P(u,t)}{\\delta u^2}+P(u,t)$$\n",
    "\n",
    "$$\\tau_m\\frac{\\delta P(u,t)}{\\delta t} = -\\frac{\\delta}{\\delta u}[-u+\\sum{V_k}w_k\\tau_m]P(u,t) +  \\frac{1}{2}\\sum{V_k}w_k^2\\tau_m\\frac{\\delta^2 P(u,t)}{\\delta u^2}$$"
   ]
  },
  {
   "cell_type": "markdown",
   "metadata": {},
   "source": [
    "### Insertion of the stationary distribution into the FP Equation\n",
    "\n",
    "\n",
    "$$P(u,\\infty) = \\frac{1}{\\sqrt{\\pi}} \\frac{1}{\\sigma}e^{\\frac{{(u-RI_0)}^2}{\\sigma^2}}$$\n",
    "\n",
    "\n",
    "\n",
    "$$\\frac{\\delta P(u,t)}{\\delta t} =  -\\frac{\\delta}{\\delta u}[(-u+RI_0)(\\frac{1}{\\sqrt{\\pi}} \\frac{1}{\\sigma}e^{\\frac{{(u-RI_0)}^2}{\\sigma^2}})] +\\frac{1}{2}\\frac{\\delta^2[\\sigma^2(\\frac{1}{\\sqrt{\\pi}} \\frac{1}{\\sigma}e^{\\frac{{(u-RI_0)}^2}{\\sigma^2}})]}{\\delta u^2}$$\n",
    "\n",
    "\n",
    "\n",
    "$$0 =  -\\frac{\\delta}{\\delta u}[(-u+RI_0)(\\frac{1}{\\sqrt{\\pi}} \\frac{1}{\\sigma}e^{\\frac{{(u-RI_0)}^2}{\\sigma^2}})] +\\frac{1}{2}\\frac{\\delta^2[\\sigma^2(\\frac{1}{\\sqrt{\\pi}} \\frac{1}{\\sigma}e^{\\frac{{(u-RI_0)}^2}{\\sigma^2}})]}{\\delta u^2}$$\n",
    "\n",
    "$$\\frac{2e^{\\frac{{(u-RI_0)}^2}{\\sigma^2}} (RI_0 -u)(-RI_0 +u)}{\\sqrt{\\pi}\\sigma^3} - \\frac{e^{\\frac{{(u-RI_0)}^2}{\\sigma^2}}}{\\sqrt{\\pi}\\sigma}+ \\frac{[\\frac{4e^{\\frac{{(u-RI_0)}^2}{\\sigma^2}} (-RI_0+u)^2}{\\sigma^4} +\\frac{2e^{\\frac{{(u-RI_0)}^2}{\\sigma^2}}}{\\sigma^2}]\\sigma}{2\\sqrt{\\pi}} =0$$\n",
    "\n"
   ]
  },
  {
   "cell_type": "markdown",
   "metadata": {},
   "source": [
    "### Simiulation and Comparison with 8.46"
   ]
  },
  {
   "cell_type": "code",
   "execution_count": 16,
   "metadata": {},
   "outputs": [],
   "source": [
    "import numpy as np\n",
    "import matplotlib.pyplot as plt \n",
    "from math import isclose\n",
    "import math\n",
    "v =1\n",
    "tau = 1\n",
    "w=0.001\n",
    "h =0.001\n",
    "T = 1000000\n",
    "U =np.zeros(1000000)\n",
    "\n",
    "for t in range(T-1): \n",
    "        U[t+1] = U[t]+ h*((-U[t]+(w*v*tau))/tau)+ math.sqrt(tau*v*w**2)*math.sqrt(h)*np.random.normal()\n",
    "        \n",
    "        \n",
    "        \n",
    "        \n",
    "        "
   ]
  },
  {
   "cell_type": "code",
   "execution_count": 17,
   "metadata": {},
   "outputs": [],
   "source": [
    "#Sampling of the stationary distribution after the burn-in period: t'=t/2\n",
    "stationary = U[round(T/2):T-1];"
   ]
  },
  {
   "cell_type": "code",
   "execution_count": 18,
   "metadata": {},
   "outputs": [
    {
     "data": {
      "image/png": "[encoded data removed]",
      "text/plain": [
       "<Figure size 432x288 with 1 Axes>"
      ]
     },
     "metadata": {
      "needs_background": "light"
     },
     "output_type": "display_data"
    }
   ],
   "source": [
    "import matplotlib.pyplot as plt\n",
    "import numpy as np\n",
    "import scipy.stats as stats\n",
    "import math\n",
    "mu = (w*v*tau)/tau\n",
    "variance = tau*v*w**2/2\n",
    "sigma = math.sqrt(variance)\n",
    "x = np.linspace(mu - 3*sigma, mu + 3*sigma, 100)\n",
    "plt.plot(x, stats.norm.pdf(x, mu, sigma))\n",
    "plt.hist(stationary, bins = 100,density = True);\n",
    "plt.legend(['Theoritical', 'Simulation']);"
   ]
  },
  {
   "cell_type": "markdown",
   "metadata": {},
   "source": [
    "### Question 2"
   ]
  },
  {
   "cell_type": "code",
   "execution_count": 49,
   "metadata": {},
   "outputs": [],
   "source": [
    "import numpy as np\n",
    "import matplotlib.pyplot as plt \n",
    "from math import isclose\n",
    "\n",
    "\n",
    "\n",
    "\n",
    "\n",
    "v =1\n",
    "tau = 1\n",
    "w=0.001\n",
    "h =0.001\n",
    "T = 1000000\n",
    "U =np.zeros(1000000)\n",
    "\n",
    "record =[]\n",
    "a =0\n",
    "for j in range(10000):\n",
    "    U =np.zeros(1000000)\n",
    "    for t in range(T-1): \n",
    "        U[t+1] = U[t]+ h*((-U[t]+(w*v*tau))/tau)+ math.sqrt(tau*v*w**2)*math.sqrt(h)*np.random.normal()\n",
    "        if U[t+1] >0.00004:\n",
    "            record.append(t)\n",
    "            break\n",
    "\n",
    "\n",
    "\n",
    "        \n",
    "        \n",
    "        \n",
    "        \n"
   ]
  },
  {
   "cell_type": "code",
   "execution_count": 52,
   "metadata": {},
   "outputs": [
    {
     "name": "stdout",
     "output_type": "stream",
     "text": [
      "Expected time to spike (ms): 0.04\n"
     ]
    }
   ],
   "source": [
    "print('Expected time to spike (ms):',round(np.mean(record)/1000,2))\n"
   ]
  },
  {
   "attachments": {
    "image.png": {
     "image/png": "[encoded data removed]"
    }
   },
   "cell_type": "markdown",
   "metadata": {},
   "source": [
    "### Analytical solution\n",
    "\n",
    "\n",
    "![image.png](attachment:image.png)"
   ]
  },
  {
   "cell_type": "markdown",
   "metadata": {},
   "source": [
    "### Question 3"
   ]
  },
  {
   "cell_type": "markdown",
   "metadata": {},
   "source": [
    "$$CV_{Gamma} = \\frac{\\sqrt{\\frac{\\alpha}{\\beta^2}}}{\\frac{\\alpha}{\\beta}} = \\frac{\\frac{\\sqrt{\\alpha}}{{\\beta}}}{\\frac{\\alpha}{\\beta}} = \\frac{\\sqrt{\\alpha}}{\\alpha} = \\frac{1}{\\sqrt{\\alpha}}$$ \n",
    "\n",
    "$$CV_{Erlang} = \\frac{\\sqrt{\\frac{k}{\\lambda^2}}}{\\frac{k}{\\lambda}} = \\frac{\\frac{\\sqrt{k}}{{\\lambda}}}{\\frac{k}{\\lambda}} = \\frac{\\sqrt{k}}{k} = \\frac{1}{\\sqrt{k}}$$ \n",
    "\n",
    "\n",
    "As the rate of spiking increases (k or alpha) the coefficient of variation for both cases decrease exponentially. However, the reduction of uncertainty should be faster in case of having inter-spike arrival times according to the Erlang distribution. This happens because k is an integer and each unit of reduction in the rate (k) results in a jump to a smaller CV compared to the higher rate."
   ]
  },
  {
   "cell_type": "markdown",
   "metadata": {},
   "source": [
    "### Question 4"
   ]
  },
  {
   "cell_type": "markdown",
   "metadata": {},
   "source": [
    "$$-P(x) [((1 - x) x (1 - \\mu) + (1 - x)^2   \\nu + (1 - x) x (1 - \\nu) + x^2 \\mu)] + \n",
    "(P(x) + 1/N P'(x)  +  1/2N^2 P''(x)) ((1 - x - 1/N) (x + 1/N) (1 - \\nu) + (\\mu (x + 1/N)^2))+\n",
    "(P(x) - 1/N P'(x)  +  1/2N^2 P''(x)) ((x - 1/N) (1 - x + 1/N) (1 - \\mu) + (\\nu (1 - x + 1/N)^2))$$\n",
    "<br>\n",
    "<br>\n",
    "<br>\n",
    "$$\\frac{(-2 + \\mu (2 + N) + M (2 + N))}{N^2}P(x) + \\frac{(2 - \\mu - M (3 + N) - 4 x + (\\mu + \\nu) (4 + N) x)}{N^2} P'(x) + \\frac{(-2 + 2 \\mu + 2 \\nu + \\mu N + \\nu N + \\nu N^2 - (-2 + \\mu + 3 \\nu) N^2 x +  2 (-1 + \\mu + \\nu) N^2 x^2)}{2 N^4} P''(x) $$\n",
    "\n",
    "rescaling $t =  \\tau/N^2 $\n",
    "<br>\n",
    "<br>\n",
    "\n",
    "$$P'(\\tau) = (-2 + \\mu (2 + N) + M (2 + N))P(x) + (2 - \\mu - M (3 + N) - 4 x + (\\mu + \\nu) (4 + N) x)P'(x) + \\frac{(-2 + 2 \\mu + 2 \\nu + \\mu N + \\nu N + \\nu N^2 - (-2 + \\mu + 3 \\nu) N^2 x +  2 (-1 + \\mu + \\nu) N^2 x^2)}{2 N^2}P''(x)$$\n",
    "<br>\n",
    "<br>\n",
    "rescaling of mutation $\\mu' = \\mu N ; \\nu' = \\nu N$\n",
    "\n",
    "$N  \\rightarrow \\infty$\n",
    "\n",
    "$$P'(\\tau) =(\\mu' + \\nu') P(x)+(-\\nu' + (\\mu' + \\nu') x)P'(x)+( - x -  x^2 ) P''(x)$$"
   ]
  },
  {
   "cell_type": "markdown",
   "metadata": {},
   "source": [
    "### Question 5"
   ]
  },
  {
   "cell_type": "code",
   "execution_count": 11,
   "metadata": {},
   "outputs": [],
   "source": [
    "#N; t=0; A = N = 1000\n",
    "#m12 A-->B\n",
    "#m23 B-->C\n",
    "#m12 = m23 = 0.1/N\n",
    "\n",
    "import numpy as np\n",
    "import matplotlib.pyplot as plt \n",
    "import math\n",
    "import random\n",
    "from numba import jit\n",
    "import numba as nb\n",
    "\n",
    "\n",
    "\n",
    "@jit(nopython=True)\n",
    "def C_born(m12,m23,N,A,B,C):\n",
    "    t = 0\n",
    "\n",
    " \n",
    "    while True:\n",
    "        rates = np.array([m12*A, m23*B])\n",
    "        total_rate  =  np.sum(rates)\n",
    "\n",
    "        dt = -math.log(1 - random.uniform(0.0, 1.0)) / total_rate \n",
    "        \n",
    "\n",
    "        choose = np.searchsorted(np.cumsum(rates/total_rate), np.random.rand(1))[0]\n",
    "        t = t+dt\n",
    "        if choose ==0:\n",
    "            A = A-1\n",
    "            B = B+1\n",
    "\n",
    "            \n",
    "      \n",
    "        if choose ==1:\n",
    "            return t\n",
    "            break\n",
    "\n",
    "\n",
    "    "
   ]
  },
  {
   "cell_type": "code",
   "execution_count": 12,
   "metadata": {},
   "outputs": [],
   "source": [
    "\n",
    "cborn1 = np.zeros(10000)\n",
    "cborn2 = np.zeros(10000)\n",
    "cborn3 = np.zeros(10000)\n",
    "\n",
    "for j in range(10000):\n",
    "    cborn1[j]=C_born(m12 = 0.1/1000,m23 = 0.1/1000,N=1000,A=1000,B=0,C=0)\n",
    "    \n",
    "\n",
    "for j in range(10000):\n",
    "    cborn2[j]=C_born(m12=1/1000,m23 = 1/1000,N=1000,A=1000,B=0, C=0)\n",
    "    \n",
    "\n",
    "for j in range(10000):\n",
    "    cborn3[j]=C_born(m12=10/1000,m23 =10/1000,N=1000,A=1000,B=0,C=0)\n",
    "\n",
    "\n",
    "    "
   ]
  },
  {
   "cell_type": "code",
   "execution_count": 13,
   "metadata": {},
   "outputs": [],
   "source": [
    "\n",
    "cborn_weak = np.zeros(100000)\n",
    "for j in range(100000):\n",
    "    cborn_weak[j]=C_born(m12=0.000000001/(1000),m23=0.000000001/(1000),N=1000,A=1000,B=0,C=0)\n",
    "    \n",
    "    "
   ]
  },
  {
   "cell_type": "code",
   "execution_count": 14,
   "metadata": {},
   "outputs": [
    {
     "name": "stdout",
     "output_type": "stream",
     "text": [
      "First case: 4e+02\n",
      "Naive expectation: 1e+04\n",
      "Second case: 4e+01\n",
      "Naive expectation: 1e+03\n",
      "Third case: 4e+00\n",
      "Naive expectation: 1e+02\n"
     ]
    }
   ],
   "source": [
    "\n",
    "print('First case:',\"{:.0e}\".format((np.mean(cborn1))))\n",
    "print('Naive expectation:',\"{:.0e}\".format((1/(0.1/1000))))\n",
    "print('Second case:',\"{:.0e}\".format((np.mean(cborn2))))\n",
    "print('Naive expectation:',\"{:.0e}\".format((1/(1/1000))))\n",
    "print('Third case:',\"{:.0e}\".format((np.mean(cborn3))))\n",
    "print('Naive expectation:',\"{:.0e}\".format((1/(10/1000))))\n"
   ]
  },
  {
   "cell_type": "markdown",
   "metadata": {},
   "source": [
    "#### As expected, the expected time to get 1 C individual is faster compared to the naive expectation which require fixation of mutation."
   ]
  }
 ],
 "metadata": {
  "kernelspec": {
   "display_name": "Python 3",
   "language": "python",
   "name": "python3"
  },
  "language_info": {
   "codemirror_mode": {
    "name": "ipython",
    "version": 3
   },
   "file_extension": ".py",
   "mimetype": "text/x-python",
   "name": "python",
   "nbconvert_exporter": "python",
   "pygments_lexer": "ipython3",
   "version": "3.8.3"
  }
 },
 "nbformat": 4,
 "nbformat_minor": 4
}
