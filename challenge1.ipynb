{
 "cells": [
  {
   "cell_type": "markdown",
   "metadata": {},
   "source": [
    "Use the uniform density on the unit interval as a candidate density to generate samples from the a beta distribution."
   ]
  },
  {
   "cell_type": "code",
   "execution_count": 3,
   "metadata": {},
   "outputs": [
    {
     "data": {
      "image/png": "[encoded data removed]",
      "text/plain": [
       "<Figure size 432x288 with 1 Axes>"
      ]
     },
     "metadata": {
      "needs_background": "light"
     },
     "output_type": "display_data"
    },
    {
     "name": "stdout",
     "output_type": "stream",
     "text": [
      "percentage of acceptance\n"
     ]
    },
    {
     "data": {
      "text/plain": [
       "0.668"
      ]
     },
     "execution_count": 3,
     "metadata": {},
     "output_type": "execute_result"
    }
   ],
   "source": [
    "import random\n",
    "from scipy.stats import beta \n",
    "from scipy.stats import uniform\n",
    "f = []\n",
    "c = 1.0001\n",
    "for i in range(5000):\n",
    " u = random.uniform(0, 1) \n",
    " g = random.uniform(0, 1) \n",
    " if u <= beta.pdf(g, 2,2)/c*uniform.pdf(g):\n",
    "    f.append(g)\n",
    "    c = max(c,beta.pdf(g, 2, 2)/uniform.pdf(g))\n",
    "\n",
    "     \n",
    "\n",
    "     \n",
    "import matplotlib.pyplot as plt\n",
    "plt.hist(f)\n",
    "plt.show()\n",
    "print('percentage of acceptance')\n",
    "len(f)/5000\n",
    "\n"
   ]
  },
  {
   "cell_type": "code",
   "execution_count": 4,
   "metadata": {},
   "outputs": [
    {
     "data": {
      "image/png": "[encoded data removed]",
      "text/plain": [
       "<Figure size 432x288 with 1 Axes>"
      ]
     },
     "metadata": {
      "needs_background": "light"
     },
     "output_type": "display_data"
    },
    {
     "name": "stdout",
     "output_type": "stream",
     "text": [
      "percentage of acceptance\n"
     ]
    },
    {
     "data": {
      "text/plain": [
       "1.0"
      ]
     },
     "execution_count": 4,
     "metadata": {},
     "output_type": "execute_result"
    }
   ],
   "source": [
    "f = []\n",
    "c = 1.0001\n",
    "for i in range(5000):\n",
    " u = random.uniform(0, 1) \n",
    " g = random.uniform(0, 1) \n",
    " if u <= beta.pdf(g, 1,1)/c*uniform.pdf(g):\n",
    "    f.append(g)\n",
    "    c = max(c,beta.pdf(g, 1, 1)/uniform.pdf(g))\n",
    "\n",
    "     \n",
    "\n",
    "     \n",
    "import matplotlib.pyplot as plt\n",
    "plt.hist(f)\n",
    "plt.show()\n",
    "print('percentage of acceptance')\n",
    "len(f)/5000"
   ]
  },
  {
   "cell_type": "code",
   "execution_count": null,
   "metadata": {},
   "outputs": [],
   "source": []
  }
 ],
 "metadata": {
  "kernelspec": {
   "display_name": "Python 3",
   "language": "python",
   "name": "python3"
  },
  "language_info": {
   "codemirror_mode": {
    "name": "ipython",
    "version": 3
   },
   "file_extension": ".py",
   "mimetype": "text/x-python",
   "name": "python",
   "nbconvert_exporter": "python",
   "pygments_lexer": "ipython3",
   "version": "3.8.3"
  }
 },
 "nbformat": 4,
 "nbformat_minor": 4
}
