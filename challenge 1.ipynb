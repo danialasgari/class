{
 "cells": [
  {
   "cell_type": "code",
   "execution_count": 1,
   "metadata": {},
   "outputs": [
    {
     "data": {
      "image/png": "[encoded data removed]",
      "text/plain": [
       "<Figure size 432x288 with 1 Axes>"
      ]
     },
     "metadata": {
      "needs_background": "light"
     },
     "output_type": "display_data"
    },
    {
     "data": {
      "text/plain": [
       "0.09033333333333333"
      ]
     },
     "execution_count": 1,
     "metadata": {},
     "output_type": "execute_result"
    }
   ],
   "source": [
    "\n",
    "import random\n",
    "from scipy.stats import beta \n",
    "from scipy.stats import uniform\n",
    "f = []\n",
    "c = 1.0001\n",
    "for i in range(3000):\n",
    " u = random.uniform(0, 1) \n",
    " g = random.uniform(0, 1) \n",
    " if u <= beta.pdf(g, 100,100)/c*uniform.pdf(g):\n",
    "    f.append(g)\n",
    "    c = max(c,beta.pdf(g, 100, 100)/uniform.pdf(g))\n",
    "\n",
    "     \n",
    "\n",
    "     \n",
    "import matplotlib.pyplot as plt\n",
    "plt.hist(f)\n",
    "plt.show()\n",
    "len(f)/3000\n",
    "\n",
    "\n",
    "\n"
   ]
  },
  {
   "cell_type": "code",
   "execution_count": null,
   "metadata": {},
   "outputs": [],
   "source": []
  }
 ],
 "metadata": {
  "kernelspec": {
   "display_name": "Python 3",
   "language": "python",
   "name": "python3"
  },
  "language_info": {
   "codemirror_mode": {
    "name": "ipython",
    "version": 3
   },
   "file_extension": ".py",
   "mimetype": "text/x-python",
   "name": "python",
   "nbconvert_exporter": "python",
   "pygments_lexer": "ipython3",
   "version": "3.8.3"
  }
 },
 "nbformat": 4,
 "nbformat_minor": 4
}
